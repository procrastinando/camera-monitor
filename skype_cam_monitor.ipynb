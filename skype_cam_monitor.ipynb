{
 "cells": [
  {
   "cell_type": "code",
   "execution_count": null,
   "metadata": {},
   "outputs": [],
   "source": [
    "import time\n",
    "import numpy as np\n",
    "import cv2\n",
    "import torch\n",
    "import torch.backends.cudnn as cudnn\n",
    "from models.experimental import attempt_load\n",
    "from utils.general import non_max_suppression\n",
    "import pandas as pd"
   ]
  },
  {
   "cell_type": "code",
   "execution_count": null,
   "metadata": {},
   "outputs": [],
   "source": [
    "camera = 0 # webcam\n",
    "weights = 'best_face.pt'\n",
    "device = torch.device('cpu')\n",
    "\n",
    "model = attempt_load(weights, map_location=device)  # load FP32 model\n",
    "stride = int(model.stride.max())  # model stride\n",
    "cudnn.benchmark = True\n",
    "\n",
    "# Capture with opencv and detect object\n",
    "cap = cv2.VideoCapture(camera)\n",
    "width, height = (320, 240) # quality \n",
    "cap.set(3, width) # width\n",
    "cap.set(4, height) # height"
   ]
  },
  {
   "cell_type": "code",
   "execution_count": null,
   "metadata": {},
   "outputs": [],
   "source": [
    "#No skype / No telegram\n",
    "while(cap.isOpened()):\n",
    "    ret, frame = cap.read()\n",
    "    \n",
    "    if ret ==True:\n",
    "        now = time.time()\n",
    "        img = torch.from_numpy(frame).float().to(device).permute(2, 0, 1)\n",
    "        img /= 255.0  # 0 - 255 to 0.0 - 1.0\n",
    "        \n",
    "        if img.ndimension() == 3:\n",
    "            img = img.unsqueeze(0)\n",
    "\n",
    "        pred = model(img, augment=False)[0]\n",
    "        pred = non_max_suppression(pred, 0.39, 0.45, classes=0, agnostic=True) # img, conf, iou, classes, ...\n",
    "\n",
    "        df = pd.DataFrame(pred[0].numpy())\n",
    "        print('time -> ', time.time()-now)\n",
    "\n",
    "        if df.size > 0:\n",
    "            time_stamp = int(time.time())\n",
    "            fcm_photo = f'detected/{time_stamp}.png'\n",
    "            cv2.imwrite(fcm_photo, frame)\n",
    "            print(df)\n",
    "\n",
    "        time.sleep(2)\n",
    "    else:\n",
    "        break\n",
    "    \n",
    "cap.release()"
   ]
  },
  {
   "cell_type": "code",
   "execution_count": null,
   "metadata": {},
   "outputs": [],
   "source": [
    "# Logging into skype\n",
    "from skpy import Skype\n",
    "from getpass import getpass\n",
    "\n",
    "sk = Skype()\n",
    "sk.conn.liveLogin(\"glados@procrastinator.me\", getpass())\n",
    "#sk.conn.soapLogin(\"cibarcena4@outlook.com\", getpass())\n",
    "#sk.getSkypeToken()\n",
    "\n",
    "carlos = sk.contacts[\"live:cibarcena4_1\"]\n",
    "\n",
    "print(sk.conn)"
   ]
  },
  {
   "cell_type": "code",
   "execution_count": null,
   "metadata": {},
   "outputs": [],
   "source": [
    "# Skype\n",
    "while(cap.isOpened()):\n",
    "    ret, frame = cap.read()\n",
    "    \n",
    "    if ret ==True:\n",
    "        now = time.time()\n",
    "        img = torch.from_numpy(frame).float().to(device).permute(2, 0, 1)\n",
    "        img /= 255.0  # 0 - 255 to 0.0 - 1.0\n",
    "        \n",
    "        if img.ndimension() == 3:\n",
    "            img = img.unsqueeze(0)\n",
    "\n",
    "        pred = model(img, augment=False)[0]\n",
    "        pred = non_max_suppression(pred, 0.39, 0.45, classes=0, agnostic=True) # img, conf, iou, classes, ...\n",
    "\n",
    "        df = pd.DataFrame(pred[0].numpy())\n",
    "        print('time -> ', time.time()-now)\n",
    "\n",
    "        if df.size > 0:\n",
    "            time_stamp = int(time.time())\n",
    "            fcm_photo = f'detected/{time_stamp}.png'\n",
    "            print(fcm_photo)\n",
    "            cv2.imwrite(fcm_photo, frame)\n",
    "            carlos.chat.sendMsg('Someone detected!')\n",
    "            with open(fcm_photo, \"rb\") as f:\n",
    "                carlos.sendFile(f, time_stamp, image=True)\n",
    "            print(df)\n",
    "\n",
    "        time.sleep(4)\n",
    "    else:\n",
    "        break\n",
    "    \n",
    "cap.release()"
   ]
  },
  {
   "cell_type": "code",
   "execution_count": null,
   "metadata": {},
   "outputs": [],
   "source": []
  },
  {
   "cell_type": "code",
   "execution_count": null,
   "metadata": {},
   "outputs": [],
   "source": []
  }
 ],
 "metadata": {
  "kernelspec": {
   "display_name": "Python 3",
   "language": "python",
   "name": "python3"
  },
  "language_info": {
   "codemirror_mode": {
    "name": "ipython",
    "version": 3
   },
   "file_extension": ".py",
   "mimetype": "text/x-python",
   "name": "python",
   "nbconvert_exporter": "python",
   "pygments_lexer": "ipython3",
   "version": "3.8.3"
  }
 },
 "nbformat": 4,
 "nbformat_minor": 4
}
