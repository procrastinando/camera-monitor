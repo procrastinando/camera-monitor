{
 "cells": [
  {
   "cell_type": "markdown",
   "metadata": {},
   "source": [
    "## Install requirements"
   ]
  },
  {
   "cell_type": "code",
   "execution_count": null,
   "metadata": {},
   "outputs": [],
   "source": [
    "# python3\n",
    "!pip install torch==1.8.2+cpu torchvision==0.9.2+cpu torchaudio===0.8.2 -f https://download.pytorch.org/whl/lts/1.8/torch_lts.html\n",
    "!pip install opencv-python\n",
    "!pip install skpy\n",
    "!pip install telepot\n",
    "!pip install -r requirements.txt"
   ]
  },
  {
   "cell_type": "markdown",
   "metadata": {},
   "source": [
    "##  Load the model"
   ]
  },
  {
   "cell_type": "code",
   "execution_count": null,
   "metadata": {},
   "outputs": [],
   "source": [
    "import torch\n",
    "import cv2\n",
    "\n",
    "model = torch.hub.load('', 'custom', path='yolov5n.pt', source='local')\n",
    "#model.conf = 0.5\n",
    "#model.iou = 0.5\n",
    "\n",
    "#cap = cv2.VideoCapture('rtsp://192.168.31.69:8554/mjpeg/1')\n",
    "cap = cv2.VideoCapture(0)"
   ]
  },
  {
   "cell_type": "markdown",
   "metadata": {},
   "source": [
    "## Using Skype"
   ]
  },
  {
   "cell_type": "code",
   "execution_count": null,
   "metadata": {},
   "outputs": [],
   "source": [
    "import time\n",
    "from skpy import Skype\n",
    "from getpass import getpass\n",
    "\n",
    "sk = Skype()\n",
    "sk.conn.liveLogin(\"glados@procrastinator.me\", getpass()) # Not Outlook mail\n",
    "#sk.conn.soapLogin(\"cibarcena4@outlook.com\", getpass()) # Outlook mail\n",
    "#sk.getSkypeToken()\n",
    "contact = sk.contacts[\"live:cibarcena4_1\"]\n",
    "\n",
    "while True:\n",
    "    success, img = cap.read()\n",
    "    result = model(img, size=640) # Reduce the size to increase the framerate\n",
    "    table = result.pandas().xyxy[0]\n",
    "\n",
    "    if 'person' in table.values:\n",
    "        contact.chat.sendMsg('Someone detected!')\n",
    "\n",
    "        #time_stamp = int(time.time())\n",
    "        #fcm_photo = 'detected/' + str(time_stamp) + '.png'\n",
    "        #cv2.imwrite(fcm_photo, img)\n",
    "        #contact.sendFile(open(fcm_photo, \"rb\"), \"person.png\") \n",
    "        #with open(fcm_photo, \"rb\") as f:\n",
    "        #    contact.sendFile(f, time_stamp, image=True)\n",
    "\n",
    "        time.sleep(5)"
   ]
  },
  {
   "cell_type": "markdown",
   "metadata": {},
   "source": [
    "## Using Telegram"
   ]
  },
  {
   "cell_type": "code",
   "execution_count": null,
   "metadata": {},
   "outputs": [],
   "source": [
    "import requests\n",
    "import time\n",
    "\n",
    "base_url = 'https://api.telegram.org/bot1893716480:AAF0M4YnB9Qziizc9JJ26ui2a_C0NuswN1A/'\n",
    "send_message = 'sendMessage?chat_id={receiver_id}&text={message}'\n",
    "\n",
    "contact = 649792299\n",
    "text = 'Someone detected!'\n",
    "\n",
    "while True:\n",
    "    success, img = cap.read()\n",
    "    result = model(img, size=640) # Reduce the size to increase the framerate\n",
    "    table = result.pandas().xyxy[0]\n",
    "\n",
    "    if 'person' in table.values:\n",
    "        requests.get(base_url + send_message.format(receiver_id=contact, message=text))\n",
    "\n",
    "        time.sleep(4)"
   ]
  }
 ],
 "metadata": {
  "interpreter": {
   "hash": "cd127202b20e1818b91126846b6ed35e0d2312d86a55e2ea155343ae375f4653"
  },
  "kernelspec": {
   "display_name": "Python 3.8.10 64-bit",
   "language": "python",
   "name": "python3"
  },
  "language_info": {
   "codemirror_mode": {
    "name": "ipython",
    "version": 3
   },
   "file_extension": ".py",
   "mimetype": "text/x-python",
   "name": "python",
   "nbconvert_exporter": "python",
   "pygments_lexer": "ipython3",
   "version": "3.7.9"
  },
  "orig_nbformat": 4
 },
 "nbformat": 4,
 "nbformat_minor": 2
}
